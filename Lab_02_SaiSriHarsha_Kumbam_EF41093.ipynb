{
 "cells": [
  {
   "cell_type": "code",
   "execution_count": 17,
   "id": "36650ebd",
   "metadata": {},
   "outputs": [
    {
     "name": "stdout",
     "output_type": "stream",
     "text": [
      "Shape of the dataset: (699, 11)\n"
     ]
    }
   ],
   "source": [
    "#Task-1\n",
    "import pandas as pd\n",
    "\n",
    "# Assuming \"breast_cancer.csv\" is in the current directory\n",
    "file_path = \"C:/Users/harsha/Desktop/DataMining_733/Week_2_Lab/breast_cancer.csv\"\n",
    "\n",
    "# Read the CSV file into a DataFrame\n",
    "df = pd.read_csv(file_path)\n",
    "\n",
    "# Get the shape of the dataset\n",
    "shape = df.shape\n",
    "\n",
    "# Print the shape\n",
    "print(\"Shape of the dataset:\", shape)\n"
   ]
  },
  {
   "cell_type": "code",
   "execution_count": 20,
   "id": "fd91e5a8",
   "metadata": {},
   "outputs": [
    {
     "name": "stdout",
     "output_type": "stream",
     "text": [
      "Total null values in the dataset: 0\n"
     ]
    }
   ],
   "source": [
    "import pandas as pd\n",
    "\n",
    "# Assuming \"breast_cancer.csv\" is in the current directory\n",
    "file_path = \"C:/Users/harsha/Desktop/DataMining_733/Week_2_Lab/breast_cancer.csv\"\n",
    "\n",
    "# Read the CSV file into a DataFrame\n",
    "df = pd.read_csv(file_path)\n",
    "\n",
    "# Check for null values and calculate the total count\n",
    "null_count = df.isnull().sum().sum()\n",
    "\n",
    "# Print the total count of null values\n",
    "print(\"Total null values in the dataset:\", null_count)\n"
   ]
  },
  {
   "cell_type": "code",
   "execution_count": 21,
   "id": "6872ec30",
   "metadata": {},
   "outputs": [],
   "source": [
    "import pandas as pd\n",
    "import numpy as np\n",
    "\n",
    "# Assuming \"breast_cancer.csv\" is in the current directory\n",
    "file_path = \"C:/Users/harsha/Desktop/DataMining_733/Week_2_Lab/breast_cancer.csv\"\n",
    "\n",
    "# Read the CSV file into a DataFrame\n",
    "df = pd.read_csv(file_path)\n",
    "\n",
    "# Replace '?' with NaN (null values) for all columns\n",
    "df.replace('?', np.nan, inplace=True)\n",
    "\n",
    "# Now, your dataset has '?' replaced with NaN (null values)\n"
   ]
  },
  {
   "cell_type": "code",
   "execution_count": 23,
   "id": "db7812c9",
   "metadata": {},
   "outputs": [
    {
     "name": "stdout",
     "output_type": "stream",
     "text": [
      "Total null values in the dataset after replacing '?' with NaN: 16\n"
     ]
    }
   ],
   "source": [
    "# Check for null values and calculate the total count after replacing '?' with NaN\n",
    "null_count = df.isnull().sum().sum()\n",
    "\n",
    "# Print the total count of null values\n",
    "print(\"Total null values in the dataset after replacing '?' with NaN:\", null_count)\n"
   ]
  },
  {
   "cell_type": "code",
   "execution_count": 24,
   "id": "99ae98ef",
   "metadata": {},
   "outputs": [
    {
     "name": "stdout",
     "output_type": "stream",
     "text": [
      "Count of null values for each column:\n",
      "Sample code                     0\n",
      "Clump Thickness                 0\n",
      "Uniformity of Cell Size         0\n",
      "Uniformity of Cell Shape        0\n",
      "Marginal Adhesion               0\n",
      "Single Epithelial Cell Size     0\n",
      "Bare Nuclei                    16\n",
      "Bland Chromatin                 0\n",
      "Normal Nucleoli                 0\n",
      "Mitoses                         0\n",
      "Class                           0\n",
      "dtype: int64\n"
     ]
    }
   ],
   "source": [
    "# Calculate the count of null values for each column\n",
    "null_counts = df.isnull().sum()\n",
    "\n",
    "# Display the count of null values for each column\n",
    "print(\"Count of null values for each column:\")\n",
    "print(null_counts)\n"
   ]
  },
  {
   "cell_type": "code",
   "execution_count": 25,
   "id": "17045afa",
   "metadata": {},
   "outputs": [],
   "source": [
    "# Fill null values with the median of each column\n",
    "df_filled = df.fillna(df.median())\n",
    "\n",
    "# The df_filled DataFrame now contains null values replaced by column medians\n"
   ]
  },
  {
   "cell_type": "code",
   "execution_count": 39,
   "id": "a0ca7a81",
   "metadata": {},
   "outputs": [
    {
     "name": "stdout",
     "output_type": "stream",
     "text": [
      "                    Column Name Data Type Unique Values    Min       Max\n",
      "0                   Sample code     int64           645  61634  13454352\n",
      "1               Clump Thickness     int64            10      1        10\n",
      "2       Uniformity of Cell Size     int64            10      1        10\n",
      "3      Uniformity of Cell Shape     int64            10      1        10\n",
      "4             Marginal Adhesion     int64            10      1        10\n",
      "5   Single Epithelial Cell Size     int64            10      1        10\n",
      "6                   Bare Nuclei    object            11    NaN       NaN\n",
      "7               Bland Chromatin     int64            10      1        10\n",
      "8               Normal Nucleoli     int64            10      1        10\n",
      "9                       Mitoses     int64             9      1        10\n",
      "10                        Class     int64             2      2         4\n"
     ]
    }
   ],
   "source": [
    "import pandas as pd\n",
    "import numpy as np\n",
    "\n",
    "# Assuming \"breast_cancer.csv\" is in the current directory\n",
    "file_path = \"C:/Users/harsha/Desktop/DataMining_733/Week_2_Lab/breast_cancer.csv\"\n",
    "\n",
    "# Read the CSV file into a DataFrame\n",
    "df = pd.read_csv(file_path)\n",
    "\n",
    "# Initialize an empty profile DataFrame\n",
    "profile_table = pd.DataFrame(columns=['Column Name', 'Data Type', 'Unique Values', 'Min', 'Max'])\n",
    "\n",
    "# Iterate through columns and populate the profile table\n",
    "for column in df.columns:\n",
    "    data_type = df[column].dtype\n",
    "    unique_values = df[column].nunique()\n",
    "    \n",
    "    # Check if the column contains numeric data\n",
    "    if pd.api.types.is_numeric_dtype(df[column]):\n",
    "        min_val = df[column].min()\n",
    "        max_val = df[column].max()\n",
    "    else:\n",
    "        min_val = np.nan\n",
    "        max_val = np.nan\n",
    "    \n",
    "    # Append the information to the profile table\n",
    "    profile_table = profile_table.append({\n",
    "        'Column Name': column,\n",
    "        'Data Type': data_type,\n",
    "        'Unique Values': unique_values,\n",
    "        'Min': min_val,\n",
    "        'Max': max_val\n",
    "    }, ignore_index=True)\n",
    "\n",
    "# Display the profile table\n",
    "print(profile_table)\n"
   ]
  },
  {
   "cell_type": "code",
   "execution_count": 43,
   "id": "bcdc188f",
   "metadata": {},
   "outputs": [
    {
     "name": "stdout",
     "output_type": "stream",
     "text": [
      "                    Column Name Data Type  Unique Values      Min         Max\n",
      "0                   Sample code     int64            645  61634.0  13454352.0\n",
      "1               Clump Thickness     int64             10      1.0        10.0\n",
      "2       Uniformity of Cell Size     int64             10      1.0        10.0\n",
      "3      Uniformity of Cell Shape     int64             10      1.0        10.0\n",
      "4             Marginal Adhesion     int64             10      1.0        10.0\n",
      "5   Single Epithelial Cell Size     int64             10      1.0        10.0\n",
      "6                   Bare Nuclei    object             11      NaN         NaN\n",
      "7               Bland Chromatin     int64             10      1.0        10.0\n",
      "8               Normal Nucleoli     int64             10      1.0        10.0\n",
      "9                       Mitoses     int64              9      1.0        10.0\n",
      "10                        Class     int64              2      2.0         4.0\n"
     ]
    }
   ],
   "source": [
    "import pandas as pd\n",
    "import numpy as np\n",
    "\n",
    "# Assuming \"your_dataset.csv\" is in the current directory or provide the correct path\n",
    "file_path = \"C:/Users/harsha/Desktop/DataMining_733/Week_2_Lab/breast_cancer.csv\"\n",
    "\n",
    "# Read the CSV file into a DataFrame\n",
    "data = pd.read_csv(file_path)\n",
    "\n",
    "# Get unique values for each column\n",
    "unique_values = data.nunique()\n",
    "\n",
    "# Initialize empty lists for min and max values\n",
    "min_values = []\n",
    "max_values = []\n",
    "\n",
    "# Loop through each column to calculate min and max values\n",
    "for col in data.columns:\n",
    "    if np.issubdtype(data[col].dtype, np.number):\n",
    "        min_val = data[col].min()\n",
    "        max_val = data[col].max()\n",
    "    else:\n",
    "        min_val = np.nan\n",
    "        max_val = np.nan\n",
    "    min_values.append(min_val)\n",
    "    max_values.append(max_val)\n",
    "\n",
    "# Create a summary DataFrame\n",
    "summary_df = pd.DataFrame({\n",
    "    'Column Name': data.columns,\n",
    "    'Data Type': data.dtypes,\n",
    "    'Unique Values': unique_values,\n",
    "    'Min': min_values,\n",
    "    'Max': max_values\n",
    "})\n",
    "summary_df.reset_index(drop=True, inplace=True)\n",
    "\n",
    "# Print the summary DataFrame\n",
    "print(summary_df)\n"
   ]
  },
  {
   "cell_type": "code",
   "execution_count": 47,
   "id": "6bb8e022",
   "metadata": {},
   "outputs": [
    {
     "name": "stdout",
     "output_type": "stream",
     "text": [
      "                    Column Name Data Type  Unique Values      Min         Max\n",
      "0                   Sample code     int64            645  61634.0  13454352.0\n",
      "1               Clump Thickness     int64             10      1.0        10.0\n",
      "2       Uniformity of Cell Size     int64             10      1.0        10.0\n",
      "3      Uniformity of Cell Shape     int64             10      1.0        10.0\n",
      "4             Marginal Adhesion     int64             10      1.0        10.0\n",
      "5   Single Epithelial Cell Size     int64             10      1.0        10.0\n",
      "6                   Bare Nuclei    object             11      NaN         NaN\n",
      "7               Bland Chromatin     int64             10      1.0        10.0\n",
      "8               Normal Nucleoli     int64             10      1.0        10.0\n",
      "9                       Mitoses     int64              9      1.0        10.0\n",
      "10                        Class     int64              2      2.0         4.0\n"
     ]
    }
   ],
   "source": [
    "import pandas as pd\n",
    "import numpy as np\n",
    "\n",
    "def generate_profile_table(file_path):\n",
    "    \"\"\"\n",
    "    Generate a profile table for a dataset.\n",
    "\n",
    "    Args:\n",
    "    - file_path (str): The path to the CSV file containing the dataset.\n",
    "\n",
    "    Returns:\n",
    "    - pd.DataFrame: A DataFrame with the column name, data type, unique values, min, and max values.\n",
    "    \"\"\"\n",
    "    # Read the CSV file into a DataFrame\n",
    "    data = pd.read_csv(file_path)\n",
    "\n",
    "    # Get unique values for each column\n",
    "    unique_values = data.nunique()\n",
    "\n",
    "    # Initialize empty lists for min and max values\n",
    "    min_values = []\n",
    "    max_values = []\n",
    "\n",
    "    # Loop through each column to calculate min and max values\n",
    "    for col in data.columns:\n",
    "        if np.issubdtype(data[col].dtype, np.number):\n",
    "            min_val = data[col].min()\n",
    "            max_val = data[col].max()\n",
    "        else:\n",
    "            min_val = np.nan\n",
    "            max_val = np.nan\n",
    "        min_values.append(min_val)\n",
    "        max_values.append(max_val)\n",
    "\n",
    "    # Create a profile DataFrame\n",
    "    profile_table = pd.DataFrame({\n",
    "        'Column Name': data.columns,\n",
    "        'Data Type': data.dtypes,\n",
    "        'Unique Values': unique_values,\n",
    "        'Min': min_values,\n",
    "        'Max': max_values\n",
    "    })\n",
    "    profile_table.reset_index(drop=True, inplace=True)\n",
    "\n",
    "    return profile_table\n",
    "\n",
    "# Example usage:\n",
    "file_path = \"C:/Users/harsha/Desktop/DataMining_733/Week_2_Lab/breast_cancer.csv\"\n",
    "profile_table = generate_profile_table(file_path)\n",
    "print(profile_table)\n"
   ]
  },
  {
   "cell_type": "code",
   "execution_count": 48,
   "id": "3b24d71c",
   "metadata": {},
   "outputs": [
    {
     "name": "stdout",
     "output_type": "stream",
     "text": [
      "Shape of the dataset: (3755, 11)\n"
     ]
    }
   ],
   "source": [
    "#Task-2\n",
    "import pandas as pd\n",
    "\n",
    "# Assuming \"ds_salaries.csv\" is in the current directory\n",
    "file_path = \"C:/Users/harsha/Desktop/DataMining_733/Week_2_Lab/ds_salaries.csv\"\n",
    "\n",
    "# Read the CSV file into a DataFrame\n",
    "df = pd.read_csv(file_path)\n",
    "\n",
    "# Get the shape of the dataset\n",
    "shape = df.shape\n",
    "\n",
    "# Print the shape\n",
    "print(\"Shape of the dataset:\", shape)\n"
   ]
  },
  {
   "cell_type": "code",
   "execution_count": 49,
   "id": "a3bfa5c6",
   "metadata": {},
   "outputs": [
    {
     "name": "stdout",
     "output_type": "stream",
     "text": [
      "Total null values in the dataset: 0\n"
     ]
    }
   ],
   "source": [
    "# Check for null values and calculate the total count\n",
    "null_count = df.isnull().sum().sum()\n",
    "\n",
    "# Print the total count of null values\n",
    "print(\"Total null values in the dataset:\", null_count)"
   ]
  },
  {
   "cell_type": "code",
   "execution_count": 50,
   "id": "0d5d5ff8",
   "metadata": {},
   "outputs": [
    {
     "name": "stdout",
     "output_type": "stream",
     "text": [
      "Total null values in the dataset: 0\n",
      "Total null values in the dataset after replacing '?' with NaN: 0\n"
     ]
    }
   ],
   "source": [
    "import pandas as pd\n",
    "import numpy as np\n",
    "# Assuming \"ds_salaries.csv\" is in the current directory\n",
    "file_path = \"C:/Users/harsha/Desktop/DataMining_733/Week_2_Lab/ds_salaries.csv\"\n",
    "\n",
    "# Read the CSV file into a DataFrame\n",
    "df = pd.read_csv(file_path)\n",
    "\n",
    "# Check for null values and calculate the total count\n",
    "null_count = df.isnull().sum().sum()\n",
    "\n",
    "# Print the total count of null values\n",
    "print(\"Total null values in the dataset:\", null_count)\n",
    "\n",
    "# Check for null values and calculate the total count after replacing '?' with NaN\n",
    "null_count = df.isnull().sum().sum()\n",
    "\n",
    "# Print the total count of null values\n",
    "print(\"Total null values in the dataset after replacing '?' with NaN:\", null_count)\n",
    "\n"
   ]
  },
  {
   "cell_type": "code",
   "execution_count": 51,
   "id": "569e98b0",
   "metadata": {},
   "outputs": [
    {
     "name": "stdout",
     "output_type": "stream",
     "text": [
      "Count of null values for each column:\n",
      "work_year             0\n",
      "experience_level      0\n",
      "employment_type       0\n",
      "job_title             0\n",
      "salary                0\n",
      "salary_currency       0\n",
      "salary_in_usd         0\n",
      "employee_residence    0\n",
      "remote_ratio          0\n",
      "company_location      0\n",
      "company_size          0\n",
      "dtype: int64\n"
     ]
    }
   ],
   "source": [
    "# Calculate the count of null values for each column\n",
    "null_counts = df.isnull().sum()\n",
    "\n",
    "# Display the count of null values for each column\n",
    "print(\"Count of null values for each column:\")\n",
    "print(null_counts)"
   ]
  },
  {
   "cell_type": "code",
   "execution_count": 52,
   "id": "e12f97b8",
   "metadata": {},
   "outputs": [
    {
     "name": "stdout",
     "output_type": "stream",
     "text": [
      "           Column Name Data Type  Unique Values     Min         Max\n",
      "0            work_year     int64              4  2020.0      2023.0\n",
      "1     experience_level    object              4     NaN         NaN\n",
      "2      employment_type    object              4     NaN         NaN\n",
      "3            job_title    object             93     NaN         NaN\n",
      "4               salary     int64            815  6000.0  30400000.0\n",
      "5      salary_currency    object             20     NaN         NaN\n",
      "6        salary_in_usd     int64           1035  5132.0    450000.0\n",
      "7   employee_residence    object             78     NaN         NaN\n",
      "8         remote_ratio     int64              3     0.0       100.0\n",
      "9     company_location    object             72     NaN         NaN\n",
      "10        company_size    object              3     NaN         NaN\n"
     ]
    }
   ],
   "source": [
    "#using the function created to display the task-2 profile table\n",
    "file_path = \"C:/Users/harsha/Desktop/DataMining_733/Week_2_Lab/ds_salaries.csv\"\n",
    "profile_table = generate_profile_table(file_path)\n",
    "print(profile_table)"
   ]
  },
  {
   "cell_type": "code",
   "execution_count": 62,
   "id": "7be44c42",
   "metadata": {},
   "outputs": [
    {
     "name": "stdout",
     "output_type": "stream",
     "text": [
      "Number of attributes in the dataset: 11\n"
     ]
    }
   ],
   "source": [
    "import pandas as pd\n",
    "\n",
    "# Assuming \"ds_salaries.csv\" is in the current directory or provide the correct path\n",
    "file_path = \"C:/Users/harsha/Desktop/DataMining_733/Week_2_Lab/ds_salaries.csv\"\n",
    "\n",
    "# Read the CSV file into a DataFrame\n",
    "data = pd.read_csv(file_path)\n",
    "\n",
    "# Get the number of attributes (columns)\n",
    "num_attributes = data.shape[1]\n",
    "\n",
    "# Print the number of attributes\n",
    "print(\"Number of attributes in the dataset:\", num_attributes)\n"
   ]
  },
  {
   "cell_type": "code",
   "execution_count": 72,
   "id": "d1621e1b",
   "metadata": {},
   "outputs": [
    {
     "name": "stdout",
     "output_type": "stream",
     "text": [
      "Number of numeric attributes: 4\n",
      "Number of discrete attributes: 7\n"
     ]
    }
   ],
   "source": [
    "import pandas as pd\n",
    "\n",
    "# Assuming \"ds_salaries.csv\" is in the current directory or provide the correct path\n",
    "file_path = \"C:/Users/harsha/Desktop/DataMining_733/Week_2_Lab/ds_salaries.csv\"\n",
    "\n",
    "# Read the CSV file into a DataFrame\n",
    "data = pd.read_csv(file_path)\n",
    "\n",
    "# Identify Numeric Columns\n",
    "numeric_columns = data.select_dtypes(include=['number'])\n",
    "\n",
    "# Count Numeric Columns\n",
    "numeric_count = len(numeric_columns.columns)\n",
    "\n",
    "# Count Discrete Columns (non-numeric)\n",
    "discrete_count = len(data.columns) - numeric_count\n",
    "\n",
    "# Print the results\n",
    "print(\"Number of numeric attributes:\", numeric_count)\n",
    "print(\"Number of discrete attributes:\", discrete_count)\n"
   ]
  },
  {
   "cell_type": "code",
   "execution_count": 73,
   "id": "763d937f",
   "metadata": {},
   "outputs": [
    {
     "name": "stdout",
     "output_type": "stream",
     "text": [
      "Unique Employee Residences and Their Counts:\n",
      "US    3004\n",
      "GB     167\n",
      "CA      85\n",
      "ES      80\n",
      "IN      71\n",
      "      ... \n",
      "BA       1\n",
      "AM       1\n",
      "CY       1\n",
      "KW       1\n",
      "MT       1\n",
      "Name: employee_residence, Length: 78, dtype: int64\n"
     ]
    }
   ],
   "source": [
    "# Get unique \"employee_residence\" values and their counts\n",
    "residence_counts = data['employee_residence'].value_counts()\n",
    "\n",
    "# Display unique \"employee_residence\" values and their counts\n",
    "print(\"Unique Employee Residences and Their Counts:\")\n",
    "print(residence_counts)"
   ]
  },
  {
   "cell_type": "code",
   "execution_count": 76,
   "id": "5261522f",
   "metadata": {},
   "outputs": [
    {
     "name": "stdout",
     "output_type": "stream",
     "text": [
      "Top 10 Employee Residences and Their Counts:\n",
      "US    3004\n",
      "GB     167\n",
      "CA      85\n",
      "ES      80\n",
      "IN      71\n",
      "DE      48\n",
      "FR      38\n",
      "PT      18\n",
      "BR      18\n",
      "GR      16\n",
      "Name: employee_residence, dtype: int64\n"
     ]
    }
   ],
   "source": [
    "import pandas as pd\n",
    "\n",
    "# Assuming \"ds_salaries.csv\" is in the current directory or provide the correct path\n",
    "file_path = \"C:/Users/harsha/Desktop/DataMining_733/Week_2_Lab/ds_salaries.csv\"\n",
    "\n",
    "# Read the CSV file into a DataFrame\n",
    "data = pd.read_csv(file_path)\n",
    "\n",
    "# Get unique \"employee_residence\" values and their counts, then select the top 10\n",
    "top_residences = data['employee_residence'].value_counts().head(10)\n",
    "\n",
    "# Display the top 10 \"employee_residence\" values and their counts\n",
    "print(\"Top 10 Employee Residences and Their Counts:\")\n",
    "print(top_residences)\n"
   ]
  },
  {
   "cell_type": "code",
   "execution_count": null,
   "id": "b9bbf9a4",
   "metadata": {},
   "outputs": [],
   "source": []
  },
  {
   "cell_type": "code",
   "execution_count": 85,
   "id": "b4f753ca",
   "metadata": {},
   "outputs": [
    {
     "data": {
      "image/png": "[encoded data removed]",
      "text/plain": [
       "<Figure size 864x432 with 1 Axes>"
      ]
     },
     "metadata": {
      "needs_background": "light"
     },
     "output_type": "display_data"
    }
   ],
   "source": [
    "import pandas as pd\n",
    "import matplotlib.pyplot as plt\n",
    "\n",
    "# Assuming \"ds_salaries.csv\" is in the current directory or provide the correct path\n",
    "file_path = \"C:/Users/harsha/Desktop/DataMining_733/Week_2_Lab/ds_salaries.csv\"\n",
    "\n",
    "# Read the CSV file into a DataFrame\n",
    "data = pd.read_csv(file_path)\n",
    "\n",
    "# Get the top 10 \"employee_residences\"\n",
    "top_residences = data['employee_residence'].value_counts().head(10).index\n",
    "\n",
    "# Filter the DataFrame to include only the top 10 residences\n",
    "filtered_data = data[data['employee_residence'].isin(top_residences)]\n",
    "\n",
    "# Create a bar plot\n",
    "plt.figure(figsize=(12, 6))  # Set the figure size\n",
    "plt.bar(filtered_data['employee_residence'], filtered_data['salary_in_usd'])\n",
    "\n",
    "plt.xlabel('Employee Residence')\n",
    "plt.ylabel('Salary in USD')\n",
    "plt.title('Salary Distribution for Top 10 Employee Residences')\n",
    "plt.xticks(rotation=45)  # Rotate x-axis labels for better readability\n",
    "plt.tight_layout()\n",
    "\n",
    "# Show the plot\n",
    "plt.show()\n"
   ]
  },
  {
   "cell_type": "code",
   "execution_count": 86,
   "id": "a66d3528",
   "metadata": {},
   "outputs": [
    {
     "data": {
      "image/png": "[encoded data removed]",
      "text/plain": [
       "<Figure size 864x432 with 1 Axes>"
      ]
     },
     "metadata": {
      "needs_background": "light"
     },
     "output_type": "display_data"
    }
   ],
   "source": [
    "# Read the CSV file into a DataFrame\n",
    "data = pd.read_csv(file_path)\n",
    "\n",
    "# Specify the desired employee residence for analysis\n",
    "desired_residence = 'DE'  # Replace with your desired residence\n",
    "\n",
    "# Filter the DataFrame for the specific employee residence\n",
    "filtered_data = data[data['employee_residence'] == desired_residence]\n",
    "\n",
    "# Create a bar plot for the specified residence\n",
    "plt.figure(figsize=(12, 6))  # Set the figure size\n",
    "plt.bar(filtered_data['employee_residence'], filtered_data['salary_in_usd'])\n",
    "\n",
    "plt.xlabel('Employee Residence')\n",
    "plt.ylabel('Salary in USD')\n",
    "plt.title(f'Salary Distribution for {desired_residence}')\n",
    "plt.xticks(rotation=45)  # Rotate x-axis labels for better readability\n",
    "plt.tight_layout()\n",
    "\n",
    "# Show the plot\n",
    "plt.show()"
   ]
  },
  {
   "cell_type": "code",
   "execution_count": 87,
   "id": "f9ef9e9a",
   "metadata": {},
   "outputs": [
    {
     "data": {
      "image/png": "[encoded data removed]",
      "text/plain": [
       "<Figure size 1152x576 with 1 Axes>"
      ]
     },
     "metadata": {
      "needs_background": "light"
     },
     "output_type": "display_data"
    }
   ],
   "source": [
    "import pandas as pd\n",
    "import matplotlib.pyplot as plt\n",
    "\n",
    "# Assuming \"ds_salaries.csv\" is in the current directory or provide the correct path\n",
    "file_path = \"C:/Users/harsha/Desktop/DataMining_733/Week_2_Lab/ds_salaries.csv\"\n",
    "\n",
    "# Read the CSV file into a DataFrame\n",
    "data = pd.read_csv(file_path)\n",
    "\n",
    "# Create a bar plot for all employee residences\n",
    "plt.figure(figsize=(16, 8))  # Adjust the figure size to accommodate labels\n",
    "bars = plt.bar(data['employee_residence'], data['salary_in_usd'])\n",
    "\n",
    "# Rotate x-axis labels for better readability\n",
    "plt.xticks(rotation=90)\n",
    "\n",
    "plt.xlabel('Employee Residence')\n",
    "plt.ylabel('Salary in USD')\n",
    "plt.title('Salary Distribution for All Employee Residences')\n",
    "\n",
    "# To improve label spacing, you can display every nth label (adjust n as needed)\n",
    "n = 10\n",
    "for i, label in enumerate(plt.gca().xaxis.get_ticklabels()):\n",
    "    if i % n != 0:\n",
    "        label.set_visible(False)\n",
    "\n",
    "plt.tight_layout()\n",
    "\n",
    "# Show the plot\n",
    "plt.show()\n"
   ]
  },
  {
   "cell_type": "code",
   "execution_count": 89,
   "id": "857e4918",
   "metadata": {},
   "outputs": [
    {
     "name": "stdout",
     "output_type": "stream",
     "text": [
      "Count of null values for each column:\n",
      "work_year             0\n",
      "experience_level      0\n",
      "employment_type       0\n",
      "job_title             0\n",
      "salary                0\n",
      "salary_currency       0\n",
      "salary_in_usd         0\n",
      "employee_residence    0\n",
      "remote_ratio          0\n",
      "company_location      0\n",
      "company_size          0\n",
      "dtype: int64\n"
     ]
    }
   ],
   "source": [
    "# Pre-Processing Task-3\n",
    "# Calculate the count of null values for each column\n",
    "null_counts = df.isnull().sum()\n",
    "\n",
    "# Display the count of null values for each column\n",
    "print(\"Count of null values for each column:\")\n",
    "print(null_counts)"
   ]
  },
  {
   "cell_type": "code",
   "execution_count": 90,
   "id": "3f9be0a4",
   "metadata": {},
   "outputs": [
    {
     "name": "stdout",
     "output_type": "stream",
     "text": [
      "Missing Values:\n",
      "work_year             0\n",
      "experience_level      0\n",
      "employment_type       0\n",
      "job_title             0\n",
      "salary                0\n",
      "salary_currency       0\n",
      "salary_in_usd         0\n",
      "employee_residence    0\n",
      "remote_ratio          0\n",
      "company_location      0\n",
      "company_size          0\n",
      "dtype: int64\n"
     ]
    }
   ],
   "source": [
    "import pandas as pd\n",
    "\n",
    "# Assuming \"ds_salaries.csv\" is in the current directory or provide the correct path\n",
    "file_path = \"C:/Users/harsha/Desktop/DataMining_733/Week_2_Lab/ds_salaries.csv\"\n",
    "\n",
    "# Read the CSV file into a DataFrame\n",
    "data = pd.read_csv(file_path)\n",
    "\n",
    "# Find missing values in the dataset\n",
    "missing_values = data.isnull().sum()\n",
    "\n",
    "# Display the count of missing values for each column\n",
    "print(\"Missing Values:\")\n",
    "print(missing_values)\n"
   ]
  },
  {
   "cell_type": "code",
   "execution_count": 93,
   "id": "9893794d",
   "metadata": {},
   "outputs": [
    {
     "data": {
      "image/png": "[encoded data removed]",
      "text/plain": [
       "<Figure size 720x432 with 1 Axes>"
      ]
     },
     "metadata": {
      "needs_background": "light"
     },
     "output_type": "display_data"
    }
   ],
   "source": [
    "import pandas as pd\n",
    "import matplotlib.pyplot as plt\n",
    "\n",
    "# Assuming \"ds_salaries.csv\" is in the current directory or provide the correct path\n",
    "file_path = \"C:/Users/harsha/Desktop/DataMining_733/Week_2_Lab/ds_salaries.csv\"\n",
    "\n",
    "# Read the CSV file into a DataFrame\n",
    "data = pd.read_csv(file_path)\n",
    "\n",
    "# Create a box plot for numeric columns (excluding non-numeric)\n",
    "numeric_columns = data.select_dtypes(include=['number'])\n",
    "\n",
    "\n",
    "# Set the figure size\n",
    "plt.figure(figsize=(10, 6))\n",
    "\n",
    "# Create the box plot\n",
    "data.boxplot(column=list(numeric_columns.columns), vert=False)  # Horizontal box plot\n",
    "\n",
    "# Set plot labels and title\n",
    "plt.xlabel('Value')\n",
    "plt.ylabel('Numeric Columns')\n",
    "plt.title('Box Plot for Numeric Columns')\n",
    "\n",
    "# Show the plot\n",
    "plt.show()\n"
   ]
  },
  {
   "cell_type": "code",
   "execution_count": 95,
   "id": "0f158c39",
   "metadata": {},
   "outputs": [],
   "source": [
    "import pandas as pd\n",
    "\n",
    "# Assuming \"ds_salaries.csv\" is in the current directory or provide the correct path\n",
    "file_path = \"C:/Users/harsha/Desktop/DataMining_733/Week_2_Lab/ds_salaries.csv\"\n",
    "\n",
    "# Read the CSV file into a DataFrame\n",
    "data = pd.read_csv(file_path)\n",
    "\n",
    "# Drop the \"salary\" column\n",
    "data.drop(columns=['salary'], inplace=True)\n",
    "\n",
    "# Now, the \"salary\" column has been removed from the DataFrame\n"
   ]
  },
  {
   "cell_type": "code",
   "execution_count": 96,
   "id": "1770a751",
   "metadata": {},
   "outputs": [
    {
     "name": "stdout",
     "output_type": "stream",
     "text": [
      "Number of Duplicate Rows: 1171\n"
     ]
    }
   ],
   "source": [
    "import pandas as pd\n",
    "\n",
    "# Assuming \"ds_salaries.csv\" is in the current directory or provide the correct path\n",
    "file_path = \"C:/Users/harsha/Desktop/DataMining_733/Week_2_Lab/ds_salaries.csv\"\n",
    "\n",
    "# Read the CSV file into a DataFrame\n",
    "data = pd.read_csv(file_path)\n",
    "\n",
    "# Check for duplicate rows\n",
    "duplicate_rows = data[data.duplicated()]\n",
    "\n",
    "# Count the total number of duplicate rows\n",
    "num_duplicates = duplicate_rows.shape[0]\n",
    "\n",
    "# Display the number of duplicate rows\n",
    "print(\"Number of Duplicate Rows:\", num_duplicates)\n",
    "\n",
    "# If you want to see the duplicate rows themselves, you can print `duplicate_rows`\n",
    "# print(\"Duplicate Rows:\")\n",
    "# print(duplicate_rows)\n"
   ]
  },
  {
   "cell_type": "code",
   "execution_count": 97,
   "id": "25b6282f",
   "metadata": {},
   "outputs": [],
   "source": [
    "data.drop_duplicates(inplace=True)\n"
   ]
  },
  {
   "cell_type": "code",
   "execution_count": 98,
   "id": "d2a97f64",
   "metadata": {},
   "outputs": [
    {
     "name": "stdout",
     "output_type": "stream",
     "text": [
      "New Shape of the Dataset: (2584, 11)\n"
     ]
    }
   ],
   "source": [
    "import pandas as pd\n",
    "\n",
    "# Assuming \"ds_salaries.csv\" is in the current directory or provide the correct path\n",
    "file_path = \"C:/Users/harsha/Desktop/DataMining_733/Week_2_Lab/ds_salaries.csv\"\n",
    "\n",
    "# Read the CSV file into a DataFrame\n",
    "data = pd.read_csv(file_path)\n",
    "\n",
    "# Drop the duplicate rows\n",
    "data.drop_duplicates(inplace=True)\n",
    "\n",
    "# Find the new shape of the dataset\n",
    "new_shape = data.shape\n",
    "\n",
    "# Display the new shape\n",
    "print(\"New Shape of the Dataset:\", new_shape)\n"
   ]
  },
  {
   "cell_type": "code",
   "execution_count": null,
   "id": "82e3170f",
   "metadata": {},
   "outputs": [],
   "source": []
  }
 ],
 "metadata": {
  "kernelspec": {
   "display_name": "Python 3 (ipykernel)",
   "language": "python",
   "name": "python3"
  },
  "language_info": {
   "codemirror_mode": {
    "name": "ipython",
    "version": 3
   },
   "file_extension": ".py",
   "mimetype": "text/x-python",
   "name": "python",
   "nbconvert_exporter": "python",
   "pygments_lexer": "ipython3",
   "version": "3.9.7"
  }
 },
 "nbformat": 4,
 "nbformat_minor": 5
}
